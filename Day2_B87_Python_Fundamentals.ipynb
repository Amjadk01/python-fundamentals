{
 "cells": [
  {
   "cell_type": "raw",
   "id": "858573a6-f2b7-4bd3-927b-1ee831dc907a",
   "metadata": {},
   "source": [
    "Introduction to python programming:"
   ]
  },
  {
   "cell_type": "code",
   "execution_count": null,
   "id": "6831a1c1-ba1f-4bb2-b331-43ad3e4f92df",
   "metadata": {},
   "outputs": [],
   "source": [
    "understanding the variables in python :"
   ]
  },
  {
   "cell_type": "code",
   "execution_count": null,
   "id": "a6c1cc1c-f78a-4650-b0d1-542d91f2999e",
   "metadata": {},
   "outputs": [],
   "source": []
  },
  {
   "cell_type": "code",
   "execution_count": 3,
   "id": "81ab041d-35d4-4754-b473-b3e1fcccd4a4",
   "metadata": {},
   "outputs": [],
   "source": [
    "x = 2"
   ]
  },
  {
   "cell_type": "code",
   "execution_count": 4,
   "id": "36826dee-9c0d-463f-afb1-7378214b12b2",
   "metadata": {},
   "outputs": [],
   "source": [
    "y = 3"
   ]
  },
  {
   "cell_type": "code",
   "execution_count": 5,
   "id": "6a8349ab-abf5-4a62-a766-1e94651c1bb7",
   "metadata": {},
   "outputs": [],
   "source": [
    "z = x=y"
   ]
  },
  {
   "cell_type": "code",
   "execution_count": 6,
   "id": "7065fec7-30ea-433f-b468-db920172d9b7",
   "metadata": {},
   "outputs": [
    {
     "name": "stdout",
     "output_type": "stream",
     "text": [
      "3\n"
     ]
    }
   ],
   "source": [
    "print(z)"
   ]
  },
  {
   "cell_type": "code",
   "execution_count": null,
   "id": "d0cda121-6fe6-4236-8e53-fa83b16c929c",
   "metadata": {},
   "outputs": [],
   "source": [
    "Rules for declaring the variables in python :"
   ]
  },
  {
   "cell_type": "code",
   "execution_count": null,
   "id": "31f628f0-547d-40f5-8ef4-2061aae6ca94",
   "metadata": {},
   "outputs": [],
   "source": [
    "Rule NO 1 : NO Namespaces while declaring the variable name in python"
   ]
  },
  {
   "cell_type": "code",
   "execution_count": null,
   "id": "cef951e2-bb0a-43d9-b4ff-b7d332a9cc75",
   "metadata": {},
   "outputs": [],
   "source": [
    "first name = 'Faiyaz'"
   ]
  },
  {
   "cell_type": "code",
   "execution_count": 9,
   "id": "359d347e-188c-445e-80b1-4beac234b5fc",
   "metadata": {
    "scrolled": true
   },
   "outputs": [
    {
     "ename": "SyntaxError",
     "evalue": "invalid syntax. Perhaps you forgot a comma? (3852772612.py, line 1)",
     "output_type": "error",
     "traceback": [
      "\u001b[1;36m  Cell \u001b[1;32mIn[9], line 1\u001b[1;36m\u001b[0m\n\u001b[1;33m    print(first name)\u001b[0m\n\u001b[1;37m          ^\u001b[0m\n\u001b[1;31mSyntaxError\u001b[0m\u001b[1;31m:\u001b[0m invalid syntax. Perhaps you forgot a comma?\n"
     ]
    }
   ],
   "source": [
    "print(first name)"
   ]
  },
  {
   "cell_type": "code",
   "execution_count": 10,
   "id": "e0826778-449e-4655-bc03-9d721e5be63a",
   "metadata": {},
   "outputs": [
    {
     "name": "stdout",
     "output_type": "stream",
     "text": [
      "Faiyaz\n"
     ]
    }
   ],
   "source": [
    "firstname = 'Faiyaz'\n",
    "print(firstname)"
   ]
  },
  {
   "cell_type": "code",
   "execution_count": null,
   "id": "b2496e67-7a95-41b4-8fef-0223c17696df",
   "metadata": {},
   "outputs": [],
   "source": [
    "Rule No 2 : A variable name should not start with a number **"
   ]
  },
  {
   "cell_type": "code",
   "execution_count": 11,
   "id": "0c8d4488-9d09-42c9-b0cc-313f93746e7c",
   "metadata": {},
   "outputs": [
    {
     "ename": "SyntaxError",
     "evalue": "invalid decimal literal (1410008898.py, line 1)",
     "output_type": "error",
     "traceback": [
      "\u001b[1;36m  Cell \u001b[1;32mIn[11], line 1\u001b[1;36m\u001b[0m\n\u001b[1;33m    1name = 'karthik'\u001b[0m\n\u001b[1;37m    ^\u001b[0m\n\u001b[1;31mSyntaxError\u001b[0m\u001b[1;31m:\u001b[0m invalid decimal literal\n"
     ]
    }
   ],
   "source": [
    "1name = 'karthik'\n",
    "print(1name)"
   ]
  },
  {
   "cell_type": "code",
   "execution_count": 12,
   "id": "0d22fcd2-581f-4fe2-b827-9e67a1e59159",
   "metadata": {},
   "outputs": [
    {
     "name": "stdout",
     "output_type": "stream",
     "text": [
      "karthik\n"
     ]
    }
   ],
   "source": [
    "name1 = 'karthik'\n",
    "print(name1)"
   ]
  },
  {
   "cell_type": "code",
   "execution_count": null,
   "id": "2dc2a11e-37ba-4f0a-a297-a2295c13701c",
   "metadata": {},
   "outputs": [],
   "source": [
    "Rule No 3 : A variable name should not contain any special characters\n",
    "\n",
    "@#$%^&*"
   ]
  },
  {
   "cell_type": "code",
   "execution_count": 13,
   "id": "aab41f21-20c2-4650-a2c5-3045f366c032",
   "metadata": {},
   "outputs": [
    {
     "ename": "SyntaxError",
     "evalue": "invalid syntax (2624127230.py, line 1)",
     "output_type": "error",
     "traceback": [
      "\u001b[1;36m  Cell \u001b[1;32mIn[13], line 1\u001b[1;36m\u001b[0m\n\u001b[1;33m    name@ = 'deepak'\u001b[0m\n\u001b[1;37m          ^\u001b[0m\n\u001b[1;31mSyntaxError\u001b[0m\u001b[1;31m:\u001b[0m invalid syntax\n"
     ]
    }
   ],
   "source": [
    "name@ = 'deepak'\n",
    "\n",
    "print(name@)"
   ]
  },
  {
   "cell_type": "code",
   "execution_count": null,
   "id": "73647dfc-583a-489f-891a-9afec4e486d6",
   "metadata": {},
   "outputs": [],
   "source": [
    "Introduction to datatype in  python :"
   ]
  },
  {
   "cell_type": "code",
   "execution_count": null,
   "id": "74938520-5aa5-467a-b698-00887912c415",
   "metadata": {},
   "outputs": [],
   "source": [
    "1. Strings ===> str\n",
    "\n",
    "2. Numbers ===> integers ---> int and floats---> float ( decimals ===> 0.1,0.2,0.3....)\n",
    "\n",
    "3. Lists ===> list\n",
    "\n",
    "4. tuples ===> tuple\n",
    "\n",
    "5. Dictionaries ===> dict"
   ]
  },
  {
   "cell_type": "code",
   "execution_count": null,
   "id": "4512f2d8-8db4-401a-9bb9-856d6ea4dfe9",
   "metadata": {},
   "outputs": [],
   "source": [
    "Note : python is a case senstive programming language ."
   ]
  },
  {
   "cell_type": "code",
   "execution_count": null,
   "id": "5b865cd0-e01c-4861-9f70-1f660d70b61e",
   "metadata": {},
   "outputs": [],
   "source": [
    "classification of datatypes in python :"
   ]
  },
  {
   "cell_type": "code",
   "execution_count": null,
   "id": "663aeae3-8241-40f2-a36a-ef90cd5c5177",
   "metadata": {},
   "outputs": [],
   "source": [
    "Broadly datatypes are classified in to 2 different catgories :\n",
    "\n",
    "    1. mutable datatypes ===> which we can edit / alter ===> flexible in nature\n",
    "    2. immutable datatypes ===> which we cannot be able to edit ===> these are fixed in nature "
   ]
  },
  {
   "cell_type": "code",
   "execution_count": null,
   "id": "669b4420-cbfe-4b2d-9ab8-136224381315",
   "metadata": {},
   "outputs": [],
   "source": [
    "introduction to string datatype :\n",
    "\n",
    "defination : A sring is a series of charactrs  decalred in quotes.\n",
    "\n",
    "classification : It is classified as an immutable datatype\n",
    "\n",
    "how to declare the string datatype ===> 2 approaches\n",
    "\n",
    "1. single quote\n",
    "\n",
    "2. double quote "
   ]
  },
  {
   "cell_type": "code",
   "execution_count": 14,
   "id": "4e434969-153d-4202-86ad-71daf4caf80a",
   "metadata": {},
   "outputs": [
    {
     "name": "stdout",
     "output_type": "stream",
     "text": [
      "joseph\n"
     ]
    }
   ],
   "source": [
    "name = 'joseph' # single quote\n",
    "\n",
    "print(name)"
   ]
  },
  {
   "cell_type": "code",
   "execution_count": 15,
   "id": "fe0ce512-6663-4097-b181-8234b423fdf2",
   "metadata": {},
   "outputs": [
    {
     "name": "stdout",
     "output_type": "stream",
     "text": [
      "kavya\n"
     ]
    }
   ],
   "source": [
    "name2 = \"kavya\" # double quote\n",
    "\n",
    "print(name2)"
   ]
  },
  {
   "cell_type": "code",
   "execution_count": null,
   "id": "221439d7-1c01-4adc-b895-e2b31a7c1a3d",
   "metadata": {},
   "outputs": [],
   "source": [
    "introduction to string methods :"
   ]
  },
  {
   "cell_type": "code",
   "execution_count": 16,
   "id": "f7469dcc-a8e8-4855-b809-1f219b3c3eb5",
   "metadata": {},
   "outputs": [
    {
     "data": {
      "text/plain": [
       "str"
      ]
     },
     "execution_count": 16,
     "metadata": {},
     "output_type": "execute_result"
    }
   ],
   "source": [
    "type(name)"
   ]
  },
  {
   "cell_type": "code",
   "execution_count": 17,
   "id": "c7618ff0-3981-4933-84ea-fd7f3e7fb65c",
   "metadata": {},
   "outputs": [
    {
     "data": {
      "text/plain": [
       "str"
      ]
     },
     "execution_count": 17,
     "metadata": {},
     "output_type": "execute_result"
    }
   ],
   "source": [
    "type(name2)"
   ]
  },
  {
   "cell_type": "code",
   "execution_count": 18,
   "id": "e1b1c8da-ed4c-4d4e-b84f-a4c1856d099c",
   "metadata": {},
   "outputs": [
    {
     "name": "stdout",
     "output_type": "stream",
     "text": [
      "zeba ansari\n"
     ]
    }
   ],
   "source": [
    "fullname = 'zeba ansari'\n",
    "\n",
    "print(fullname)"
   ]
  },
  {
   "cell_type": "code",
   "execution_count": null,
   "id": "aafcd798-a558-4a24-b518-7b41a754ecb4",
   "metadata": {},
   "outputs": [],
   "source": [
    "# req : to correct the format."
   ]
  },
  {
   "cell_type": "code",
   "execution_count": 19,
   "id": "01b78266-f2d9-4c17-9c39-9d2275e3dabb",
   "metadata": {},
   "outputs": [
    {
     "name": "stdout",
     "output_type": "stream",
     "text": [
      "Zeba Ansari\n"
     ]
    }
   ],
   "source": [
    "print(fullname.title())"
   ]
  },
  {
   "cell_type": "code",
   "execution_count": null,
   "id": "c367b157-038a-4059-a543-d229fed6d8b0",
   "metadata": {},
   "outputs": [],
   "source": [
    "# req : i want the entire name in capitals."
   ]
  },
  {
   "cell_type": "code",
   "execution_count": 20,
   "id": "7f0de798-16aa-4beb-b9af-93efac9b0208",
   "metadata": {},
   "outputs": [
    {
     "name": "stdout",
     "output_type": "stream",
     "text": [
      "ZEBA ANSARI\n"
     ]
    }
   ],
   "source": [
    "print(fullname.upper())"
   ]
  },
  {
   "cell_type": "code",
   "execution_count": null,
   "id": "09ef5c9b-9149-4c3a-9016-9d4dc56cb8b6",
   "metadata": {},
   "outputs": [],
   "source": [
    "# req : i want the entire name in small case letters. "
   ]
  },
  {
   "cell_type": "code",
   "execution_count": 21,
   "id": "bb13dde6-2a14-494b-bd51-569398da980e",
   "metadata": {},
   "outputs": [
    {
     "name": "stdout",
     "output_type": "stream",
     "text": [
      "zeba ansari\n"
     ]
    }
   ],
   "source": [
    "print(fullname.lower())"
   ]
  },
  {
   "cell_type": "code",
   "execution_count": null,
   "id": "d82e0306-73a8-4d30-8204-3ff8aae28e87",
   "metadata": {},
   "outputs": [],
   "source": []
  }
 ],
 "metadata": {
  "kernelspec": {
   "display_name": "Python 3 (ipykernel)",
   "language": "python",
   "name": "python3"
  },
  "language_info": {
   "codemirror_mode": {
    "name": "ipython",
    "version": 3
   },
   "file_extension": ".py",
   "mimetype": "text/x-python",
   "name": "python",
   "nbconvert_exporter": "python",
   "pygments_lexer": "ipython3",
   "version": "3.13.5"
  }
 },
 "nbformat": 4,
 "nbformat_minor": 5
}
